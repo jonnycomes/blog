{
 "cells": [
  {
   "cell_type": "markdown",
   "id": "353002cf-ab0f-4ff3-a83c-358516a9eeac",
   "metadata": {
    "tags": []
   },
   "source": [
    "# Hello"
   ]
  },
  {
   "cell_type": "raw",
   "id": "97176dba-09b4-402c-b69e-5883d4161898",
   "metadata": {},
   "source": [
    "---\n",
    "title: \"Hello Title\"\n",
    "author: \"Jonny Comes\"\n",
    "date: \"2022-11-74\"\n",
    "categories: [quantum, test]\n",
    "jupyter: python3\n",
    "---"
   ]
  },
  {
   "cell_type": "markdown",
   "id": "bac227c0-9a0d-4db4-82eb-d2488a280417",
   "metadata": {},
   "source": [
    "$x+1=3$ and $$x+4=\\int x~dx$$"
   ]
  },
  {
   "cell_type": "code",
   "execution_count": null,
   "id": "3a851240-0766-439d-8d9a-98230df5cdb3",
   "metadata": {},
   "outputs": [],
   "source": []
  }
 ],
 "metadata": {
  "kernelspec": {
   "display_name": "Python 3 (ipykernel)",
   "language": "python",
   "name": "python3"
  },
  "language_info": {
   "codemirror_mode": {
    "name": "ipython",
    "version": 3
   },
   "file_extension": ".py",
   "mimetype": "text/x-python",
   "name": "python",
   "nbconvert_exporter": "python",
   "pygments_lexer": "ipython3",
   "version": "3.9.12"
  }
 },
 "nbformat": 4,
 "nbformat_minor": 5
}
